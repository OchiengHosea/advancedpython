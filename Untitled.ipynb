{
 "cells": [
  {
   "cell_type": "markdown",
   "metadata": {},
   "source": [
    "# Support Vector Machines\n",
    "- This is a set of supervised learning methods used for classification, regression, and outlier detection\n",
    "### Advantages\n",
    "- Effective in high dimensional spaces\n",
    "- Stil effective in cases where the number of dimensions is greater than the number of samples\n",
    "- Uses a subset of training points in the decision function (called support vectors, so it is memory efficient\n",
    "- Versatile: Different Kernel functions can be specified for the decision function, Common Keenels are provided but it is also possible to provide custom kernels\n",
    "\n",
    "### Disadvantages\n",
    "- If numer of features is much greater that the number of sample, avoid over-fitting in choosing Kernel functions and regularization term is crucial\n",
    "- Do not directly provide probability estimates, these are calculated using an expensive five-fold cross-validation\n",
    "\n",
    "\n",
    "Support Vector Machines support both dense and sparse vectors\n",
    "\n",
    "LinearSVC is faster, does not accept parameter kernel as it this is assumed to be linear., also lacks some attributes like support_\n",
    "\n",
    "SVC, NuSVC, and LinearSVC take as input two arrays: an array X of shape (n_samples, n_features) holding the training samples, and array y of class labels (strings, or integers) of shape (n_samples)\n",
    "\n",
    "SVMs Decision function depends on some subset of training sata, called the dupport vectors. some properties of these support vectors can be found in attributes aupport_vectors_, support_, and n_support_\n",
    "\n",
    "## Multi calss calssification\n",
    "SVC and NuSVC iplement the \"one-versus-one\" approach for multicalss classification.\n",
    "In total, n_classes * (n_classes - 1) / 2 classifiers are constructed and each one trains data from two classes. To provide a consistent interface with other classifiers, the decission_function_shape option allows to monotonically transform the results of the \"one-versus-one\" classifiers to a \"one-vs-rest\" decision function of shape (n_samples, n_classes)\n",
    "\n",
    "On te other hand, LinearSVC inplements one-vs-the-rest multiclass strategy\n",
    "\n",
    "## SVM Classifiers in the iris dataset\n",
    "Comparison of different Linear SVM classifiers on a 2D projection of the iris dataset, we only consider Sepal Width and sepal length\n",
    "\n",
    "LinearSVC minimizes the squared hinge loss while SVC minimizes the regular hinge loss\n"
   ]
  },
  {
   "cell_type": "code",
   "execution_count": 2,
   "metadata": {},
   "outputs": [
    {
     "name": "stdout",
     "output_type": "stream",
     "text": [
      "Automatically created module for IPython interactive environment\n"
     ]
    }
   ],
   "source": [
    "print(__doc__)\n",
    "\n",
    "import numpy as np\n",
    "import matplotlib.pyplot as plt\n",
    "from sklearn import svm, datasets"
   ]
  },
  {
   "cell_type": "code",
   "execution_count": 3,
   "metadata": {},
   "outputs": [],
   "source": [
    "def make_meshgrid(x, y, h=0.2):\n",
    "    \"\"\"Create a mesh of points to plot in \n",
    "    parameters\n",
    "    ----------\n",
    "    x: data to base x-axis meshgrid on\n",
    "    y: data to base y-axis meshgrid on\n",
    "    h: stepsize for meshgrid\n",
    "    \"\"\"\n",
    "    \n",
    "    x_min, x_max = x.min() - 1, x.max() +1\n",
    "    y_min, y_max = y.min() - 1, y.max() +1\n",
    "    \n",
    "    xx, yy = np.meshgrid(np.meshgrid(np.arange(x_min, x_max, h)), np.meshgrid(np.arange(y_min, y_max, h)))\n",
    "    \n",
    "    return xx, yy\n",
    "\n",
    "def plot_contours(ax, clf, xx, yy, **params):\n",
    "    Z = clf.predict(np.c_[xx.ravel(), yy.ravel()])\n",
    "    Z = Z.reshape(xx.shape)\n",
    "    out = ax.contourf(xx, yy, Z, **params)\n",
    "    return out"
   ]
  },
  {
   "cell_type": "code",
   "execution_count": 14,
   "metadata": {},
   "outputs": [
    {
     "data": {
      "text/plain": [
       "(150, 2)"
      ]
     },
     "execution_count": 14,
     "metadata": {},
     "output_type": "execute_result"
    }
   ],
   "source": [
    "# import data\n",
    "iris = datasets.load_iris()\n",
    "\n",
    "# Take the first 2 featues\n",
    "\n",
    "X = iris.data[:, : 2]\n",
    "y = iris.target\n",
    "\n",
    "X.shape"
   ]
  },
  {
   "cell_type": "code",
   "execution_count": 15,
   "metadata": {},
   "outputs": [
    {
     "name": "stderr",
     "output_type": "stream",
     "text": [
      "<ipython-input-15-39efa6264343>:26: UserWarning: Attempting to set identical bottom == top == 1.0 results in singular transformations; automatically expanding.\n",
      "  ax.set_ylim(yy.min(), yy.min())\n",
      "<ipython-input-15-39efa6264343>:26: UserWarning: Attempting to set identical bottom == top == 1.0 results in singular transformations; automatically expanding.\n",
      "  ax.set_ylim(yy.min(), yy.min())\n",
      "<ipython-input-15-39efa6264343>:26: UserWarning: Attempting to set identical bottom == top == 1.0 results in singular transformations; automatically expanding.\n",
      "  ax.set_ylim(yy.min(), yy.min())\n",
      "<ipython-input-15-39efa6264343>:26: UserWarning: Attempting to set identical bottom == top == 1.0 results in singular transformations; automatically expanding.\n",
      "  ax.set_ylim(yy.min(), yy.min())\n"
     ]
    },
    {
     "data": {
      "image/png": "[encoded data removed]",
      "text/plain": [
       "<Figure size 432x288 with 4 Axes>"
      ]
     },
     "metadata": {},
     "output_type": "display_data"
    }
   ],
   "source": [
    "# create an instance of svm and fit out our data, we do not scale our data since we want to plot the support vectors\n",
    "C = 1.0 #SVM regularization parameter\n",
    "\n",
    "models = (\n",
    "    svm.SVC(kernel='linear', C=C),\n",
    "    svm.LinearSVC(C=C, max_iter=10000),\n",
    "    svm.SVC(kernel='rbf', gamma=0.7, C=C),\n",
    "    svm.SVC(kernel='poly', degree=3, gamma='auto', C=C))\n",
    "models = (clf.fit(X, y) for clf in models)\n",
    "\n",
    "titles = ('SVC with linear kernel',\n",
    "         'LinearSVC (liner kernel)',\n",
    "         'SVC with RBF kernel',\n",
    "         'SVC with polynomial (degree 3) kernel')\n",
    "\n",
    "# set up 2 x 2 grid for plotting\n",
    "fig, sub = plt.subplots(2, 2)\n",
    "plt.subplots_adjust(wspace=0.4, hspace=0.4)\n",
    "\n",
    "X0, X1 = X[:, 0], X[:, 1]\n",
    "xx, yy = make_meshgrid(X0, X1)\n",
    "for clf, title, ax in zip(models, titles, sub.flatten()):\n",
    "    plot_contours(ax, clf, xx, yy, cmap=plt.cm.coolwarm, alpha=0.8)\n",
    "    ax.scatter(X0, X1, c=y, cmap=plt.cm.coolwarm, s=20, edgecolors='k')\n",
    "    ax.set_xlim(xx.min(), xx.max())\n",
    "    ax.set_ylim(yy.min(), yy.min())\n",
    "    ax.set_xlabel('Sepal Length')\n",
    "    ax.set_ylabel('Sepal width')\n",
    "    ax.set_xticks(())\n",
    "    ax.set_yticks(())\n",
    "    ax.set_title(title)\n",
    "    \n",
    "plt.show()"
   ]
  },
  {
   "cell_type": "code",
   "execution_count": null,
   "metadata": {},
   "outputs": [],
   "source": []
  }
 ],
 "metadata": {
  "kernelspec": {
   "display_name": "Python 3",
   "language": "python",
   "name": "python3"
  },
  "language_info": {
   "codemirror_mode": {
    "name": "ipython",
    "version": 3
   },
   "file_extension": ".py",
   "mimetype": "text/x-python",
   "name": "python",
   "nbconvert_exporter": "python",
   "pygments_lexer": "ipython3",
   "version": "3.8.5"
  }
 },
 "nbformat": 4,
 "nbformat_minor": 4
}
