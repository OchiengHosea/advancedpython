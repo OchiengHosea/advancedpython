{
 "cells": [
  {
   "cell_type": "code",
   "execution_count": 1,
   "metadata": {},
   "outputs": [],
   "source": [
    "from __future__ import division\n",
    "from scipy import linalg as la\n",
    "from scipy import optimize\n",
    "import sympy\n",
    "import numpy as np\n",
    "import matplotlib.pyplot as plt\n",
    "sympy.init_printing()"
   ]
  },
  {
   "cell_type": "code",
   "execution_count": 5,
   "metadata": {},
   "outputs": [
    {
     "data": {
      "text/plain": [
       "array([0.73205081, 0.46410162])"
      ]
     },
     "execution_count": 5,
     "metadata": {},
     "output_type": "execute_result"
    }
   ],
   "source": [
    "\"\"\"\n",
    "Non linear equations cannot be written as a matrix-vector multiplication\n",
    "instead, a system of multivariate nonlinear equations are written as a vector valued functions\n",
    "\n",
    "for example: f:Rn -> Rn that takes n dimensionlal vector and maps it to another \n",
    "n-dimensional vector\n",
    "\n",
    "Newton's method can be used for multivariate problems, and in this case, its \n",
    "iteration formular id\n",
    "\n",
    "xk+1 = xk - Jf(xk)`(f(xk)) where Jf(xk) is the Jacobian matrix of the function f(x)\n",
    "with elements [Jf(xk)ij] = dfi(xk)/dxi\n",
    "\n",
    "instead of inverting the jacobian matrix, it is sufficient to solve the \n",
    "linear equation system Jf(xk)dxk = -f(xk) and update xk using xk + dxk like the secant variables of the newton method\n",
    "that avoid computing the jacobian by estimating it from previous function evaluations.\n",
    "\n",
    "Broyden's method is a particular exapmle of this method for multivariate equation systems.\n",
    "in the scipy optimize module, broyden 1 and broyden 2 provide two implementations\n",
    "of Broyden's method using different approximations of the jacobian and the \n",
    "function optimize.fsolve that provides an implementation of Newton-like method\n",
    "where optionally th jacobian can be specified if available\n",
    "\n",
    "the functions all have similar function signatures\n",
    "arguments:\n",
    "-python function representing the equation to be solved, and it should take an array\n",
    "and it should take a numpy array as the first argument and it should return an array of the same shape\n",
    "-the secon argument is an inittial guess for the solution as a numpy array\n",
    "-optimize.fsole function also takes fprime as an optional keyword argument\n",
    "which can be used to provide a function that eturns the Jacobian of the function of fx\n",
    "-In addititon, there are other arguments for fine tuning, see the docstrings\n",
    "\n",
    "\"\"\"\n",
    "\n",
    "# for example, consider the following system of 2 multivariate and nonlinear equations\n",
    "\n",
    "# y - x**3 -2x**2 + 1 = 0\n",
    "# y + x**2 -1 = 0\n",
    "\n",
    "# this can be represented by the vector valued function\n",
    "\n",
    "# f([x1, x2]) = [x2 - x**3 - 2x**2 + 1, x2 + x**2 - 1]\n",
    "\n",
    "# to solve this using scipy we need to define python function for f([x1, x2])\n",
    "# and call, for example the optimize.fsolve using the function and an inititial guess for the vector\n",
    "\n",
    "def f(x):\n",
    "    return [x[1] - x[0]**3 -2*x[0]**2 + 1, x[1] + x[0]**2 - 1]\n",
    "\n",
    "optimize.fsolve(f, [1, 1])"
   ]
  },
  {
   "cell_type": "code",
   "execution_count": 3,
   "metadata": {},
   "outputs": [
    {
     "data": {
      "text/latex": [
       "$\\displaystyle \\left[\\begin{matrix}- 3 x^{2} - 4 x & 1\\\\2 x & 1\\end{matrix}\\right]$"
      ],
      "text/plain": [
       "⎡     2         ⎤\n",
       "⎢- 3⋅x  - 4⋅x  1⎥\n",
       "⎢               ⎥\n",
       "⎣    2⋅x       1⎦"
      ]
     },
     "execution_count": 3,
     "metadata": {},
     "output_type": "execute_result"
    }
   ],
   "source": [
    "# the eoptimize.broyden1 and optimize.broyden2 can be used in a similar manner\n",
    "# to specify a jacobian for optimize.fsolve to use, we need to define a funcition\n",
    "# that evaluates the jacobian for a given input vector\n",
    "\n",
    "x, y = sympy.symbols(\"x, y\")\n",
    "f_mat = sympy.Matrix([y - x**3 -2*x**2 + 1, y + x**2 -1])\n",
    "f_mat.jacobian(sympy.Matrix([x, y]))"
   ]
  },
  {
   "cell_type": "code",
   "execution_count": 6,
   "metadata": {},
   "outputs": [
    {
     "data": {
      "text/plain": [
       "array([0.73205081, 0.46410162])"
      ]
     },
     "execution_count": 6,
     "metadata": {},
     "output_type": "execute_result"
    }
   ],
   "source": [
    "# this we can implement as a python function that can be passed to the optimize.fsolve function\n",
    "\n",
    "def f_jacobian(x):\n",
    "    return [[-3*x[0]**2-4*x[0], 1], [2*x[0], 1]]\n",
    "\n",
    "optimize.fsolve(f, [1,1], fprime=f_jacobian)"
   ]
  },
  {
   "cell_type": "code",
   "execution_count": 5,
   "metadata": {},
   "outputs": [
    {
     "data": {
      "image/png": "[encoded data removed]",
      "text/plain": [
       "<Figure size 576x288 with 1 Axes>"
      ]
     },
     "metadata": {
      "needs_background": "light"
     },
     "output_type": "display_data"
    }
   ],
   "source": [
    "def f(x):\n",
    "    return [x[1] - x[0]**3 -2*x[0]**2 +1, x[1] + x[0]**2 -1]\n",
    "\n",
    "x = np.linspace(-3, 2, 5000)\n",
    "y1 = x**3 + 2*x**2 -1\n",
    "y2 = -x**2 + 1\n",
    "\n",
    "fig, ax = plt.subplots(figsize=(8,4))\n",
    "\n",
    "ax.plot(x, y1, 'b', lw=1.5, label='$y = x^3 + 2x^2 - 1$')\n",
    "ax.plot(x, y2, 'g', lw=1.5, label='$y = x^2 + 1$')\n",
    "\n",
    "x_guesses = [[-2,2], [1,-1], [-2,-5]]\n",
    "\n",
    "for x_guess in x_guesses:\n",
    "    sol = optimize.fsolve(f, x_guess)\n",
    "    ax.plot(sol[0], sol[1], 'r*', markersize=15)\n",
    "    \n",
    "    ax.plot(x_guess[0], x_guess[1], 'ko')\n",
    "    ax.annotate(\"\", xy=(sol[0], sol[1]), xytext=(x_guess[0], x_guess[1]), arrowprops=dict(arrowstyle=\"->\", linewidth=2.5))\n",
    "    ax.legend(loc=0)\n",
    "    ax.set_xlabel(r'$x$', fontsize=18)"
   ]
  },
  {
   "cell_type": "code",
   "execution_count": null,
   "metadata": {},
   "outputs": [],
   "source": []
  }
 ],
 "metadata": {
  "kernelspec": {
   "display_name": "Python 3",
   "language": "python",
   "name": "python3"
  },
  "language_info": {
   "codemirror_mode": {
    "name": "ipython",
    "version": 3
   },
   "file_extension": ".py",
   "mimetype": "text/x-python",
   "name": "python",
   "nbconvert_exporter": "python",
   "pygments_lexer": "ipython3",
   "version": "3.7.5rc1"
  }
 },
 "nbformat": 4,
 "nbformat_minor": 2
}
