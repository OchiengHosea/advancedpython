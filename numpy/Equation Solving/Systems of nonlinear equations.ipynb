{
 "cells": [
  {
   "cell_type": "code",
   "execution_count": 2,
   "metadata": {},
   "outputs": [],
   "source": [
    "from __future__ import division\n",
    "from scipy import linalg as la\n",
    "from scipy import optimize\n",
    "import sympy\n",
    "import numpy as np\n",
    "import matplotlib.pyplot as plt\n",
    "sympy.init_printing()"
   ]
  },
  {
   "cell_type": "code",
   "execution_count": 3,
   "metadata": {},
   "outputs": [
    {
     "data": {
      "text/plain": [
       "array([0.73205081, 0.46410162])"
      ]
     },
     "execution_count": 3,
     "metadata": {},
     "output_type": "execute_result"
    }
   ],
   "source": [
    "\"\"\"\n",
    "Non linear equations cannot be written as a matrix-vector multiplication\n",
    "instead, a system of multivariate nonlinear equations are written as a vector valued functions\n",
    "\n",
    "for example: f:Rn -> Rn that takes n dimensionlal vector and maps it to another \n",
    "n-dimensional vector\n",
    "\n",
    "Newton's method can be used for multivariate problems, and in this case, its \n",
    "iteration formular id\n",
    "\n",
    "xk+1 = xk - Jf(xk)`(f(xk)) where Jf(xk) is the Jacobian matrix of the function f(x)\n",
    "with elements [Jf(xk)ij] = dfi(xk)/dxi\n",
    "\n",
    "instead of inverting the jacobian matrix, it is sufficient to solve the \n",
    "linear equation system Jf(xk)dxk = -f(xk) and update xk using xk + dxk like the secant variables of the newton method\n",
    "that avoid computing the jacobian by estimating it from previous function evaluations.\n",
    "\n",
    "Broyden's method is a particular exapmle of this method for multivariate equation systems.\n",
    "in the scipy optimize module, broyden 1 and broyden 2 provide two implementations\n",
    "of Broyden's method using different approximations of the jacobian and the \n",
    "function optimize.fsolve that provides an implementation of Newton-like method\n",
    "where optionally th jacobian can be specified if available\n",
    "\n",
    "the functions all have similar function signatures\n",
    "arguments:\n",
    "-python function representing the equation to be solved, and it should take an array\n",
    "and it should take a numpy array as the first argument and it should return an array of the same shape\n",
    "-the secon argument is an inittial guess for the solution as a numpy array\n",
    "-optimize.fsole function also takes fprime as an optional keyword argument\n",
    "which can be used to provide a function that eturns the Jacobian of the function of fx\n",
    "-In addititon, there are other arguments for fine tuning, see the docstrings\n",
    "\n",
    "\"\"\"\n",
    "\n",
    "# for example, consider the following system of 2 multivariate and nonlinear equations\n",
    "\n",
    "# y - x**3 -2x**2 + 1 = 0\n",
    "# y + x**2 -1 = 0\n",
    "\n",
    "# this can be represented by the vector valued function\n",
    "\n",
    "# f([x1, x2]) = [x2 - x**3 - 2x**2 + 1, x2 + x**2 - 1]\n",
    "\n",
    "# to solve this using scipy we need to define python function for f([x1, x2])\n",
    "# and call, for example the optimize.fsolve using the function and an inititial guess for the vector\n",
    "\n",
    "def f(x):\n",
    "    return [x[1] - x[0]**3 -2*x[0]**2 + 1, x[1] + x[0]**2 - 1]\n",
    "\n",
    "optimize.fsolve(f, [1, 1])"
   ]
  },
  {
   "cell_type": "code",
   "execution_count": null,
   "metadata": {},
   "outputs": [],
   "source": []
  }
 ],
 "metadata": {
  "kernelspec": {
   "display_name": "Python 3",
   "language": "python",
   "name": "python3"
  },
  "language_info": {
   "codemirror_mode": {
    "name": "ipython",
    "version": 3
   },
   "file_extension": ".py",
   "mimetype": "text/x-python",
   "name": "python",
   "nbconvert_exporter": "python",
   "pygments_lexer": "ipython3",
   "version": "3.7.5rc1"
  }
 },
 "nbformat": 4,
 "nbformat_minor": 2
}
