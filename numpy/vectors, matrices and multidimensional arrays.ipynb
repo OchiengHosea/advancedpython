{
 "cells": [
  {
   "cell_type": "code",
   "execution_count": 1,
   "metadata": {},
   "outputs": [],
   "source": [
    "import numpy as np\n",
    "import random\n",
    "import matplotlib.pyplot as plt\n",
    "import scipy.linalg as la\n",
    "%matplotlib inline"
   ]
  },
  {
   "cell_type": "code",
   "execution_count": 4,
   "metadata": {},
   "outputs": [
    {
     "name": "stdout",
     "output_type": "stream",
     "text": [
      "2\n",
      "6\n",
      "int64\n",
      "48\n"
     ]
    }
   ],
   "source": [
    "data = np.array(http://localhost:8888/notebooks/numpy/vectors%2C%20matrices%20and%20multidimensional%20arrays.ipynb#[[1,2],[3,4],[5,6]])\n",
    "# metadata about the numpy array\n",
    "print(data.ndim)\n",
    "print(data.size)\n",
    "print(data.dtype)\n",
    "print(data.nbytes)"
   ]
  },
  {
   "cell_type": "code",
   "execution_count": 6,
   "metadata": {},
   "outputs": [
    {
     "data": {
      "text/plain": [
       "array([2.+0.j, 3.+0.j, 4.+0.j])"
      ]
     },
     "execution_count": 6,
     "metadata": {},
     "output_type": "execute_result"
    }
   ],
   "source": [
    "# generate array of a partivular data type\n",
    "np.array([2,3,4], dtype=np.complex)"
   ]
  },
  {
   "cell_type": "code",
   "execution_count": 1,
   "metadata": {},
   "outputs": [],
   "source": [
    "def f(x):\n",
    "    y = np.ones_like(x)\n",
    "    return y"
   ]
  },
  {
   "cell_type": "code",
   "execution_count": 5,
   "metadata": {},
   "outputs": [
    {
     "data": {
      "text/plain": [
       "array(1)"
      ]
     },
     "execution_count": 5,
     "metadata": {},
     "output_type": "execute_result"
    }
   ],
   "source": [
    "f(6)"
   ]
  },
  {
   "cell_type": "code",
   "execution_count": 11,
   "metadata": {},
   "outputs": [
    {
     "data": {
      "text/plain": [
       "array([2.04296925])"
      ]
     },
     "execution_count": 11,
     "metadata": {},
     "output_type": "execute_result"
    }
   ],
   "source": [
    "# fancy indexing and boolean valued indexing\n",
    "# with fancy indexing an array can be indexed by nother array, list or a sequence\n",
    "# of integers whose values select elements in the indexed array\n",
    "\n",
    "arr = np.random.normal(size=10)\n",
    "arr[arr>1.5]"
   ]
  },
  {
   "cell_type": "code",
   "execution_count": 12,
   "metadata": {},
   "outputs": [],
   "source": [
    "# an n dimensional array can be flattened into 1 dimensional arrau using flatten and ravel\n",
    "# new axis or column can be added as well\n",
    "\n",
    "data = np.arange(0, 5)\n",
    "column = data[:, np.newaxis]"
   ]
  },
  {
   "cell_type": "code",
   "execution_count": 20,
   "metadata": {},
   "outputs": [
    {
     "data": {
      "text/plain": [
       "array([[ 4.66666667],\n",
       "       [10.66666667]])"
      ]
     },
     "execution_count": 20,
     "metadata": {},
     "output_type": "execute_result"
    }
   ],
   "source": [
    "# examples\n",
    "# representation of problems in linear algebra\n",
    "# suppose the price of a ball and 2 balts or 2 balls and a bat is 100,\n",
    "# we need to find the price of each\n",
    "\n",
    "# translate the problem into mathematical form\n",
    "# 2x + y = 100\n",
    "# x + 2y = 100\n",
    "\n",
    "# in linear algebra data is represented in the form of linear equations,\n",
    "# these linear equations sre in turn represented in the form of matrices and \n",
    "# vectors\n",
    "\n",
    "#visualize the problem\n",
    "# solve the problem using elementary algebraic operations.\n",
    "# possible methods ..\n",
    "    # Elimination / Substitution, Cramers Rule, Row reduction, Matrix Solution\n",
    "    \n",
    "#Matrix method\n",
    "#in Matrix method the system to be solved is represented in the form of AX =B\n",
    "#So we can translate it into\n",
    "A = np.array([[2, 1],\n",
    "     [1, 2]\n",
    "    ])\n",
    "# X = [[x],\n",
    "#      [y]\n",
    "#     ]\n",
    "B = np.array([[20],\n",
    "     [26]\n",
    "    ])\n",
    "# to find the values of x and Y, we need to find the values of in the Matrix X\n",
    "# to do so we can take a dot product of the inverse of matrix A and Matrix B\n",
    "inv_A = np.linalg.inv(A)\n",
    "X = inv_A.dot(B)\n",
    "X"
   ]
  },
  {
   "cell_type": "code",
   "execution_count": 21,
   "metadata": {},
   "outputs": [
    {
     "data": {
      "text/plain": [
       "array([[2.],\n",
       "       [4.]])"
      ]
     },
     "execution_count": 21,
     "metadata": {},
     "output_type": "execute_result"
    }
   ],
   "source": [
    "# Example 2\n",
    "# 4x + 3y  20\n",
    "# -5x + 9y = 26\n",
    "\n",
    "A = np.array([\n",
    "    [4, 3],\n",
    "    [-5, 9]\n",
    "])\n",
    "\n",
    "# X = np.array([\n",
    "#     [x],\n",
    "#     [y]\n",
    "# ])\n",
    "\n",
    "B = np.array([\n",
    "    [20],\n",
    "    [26]\n",
    "])\n",
    "\n",
    "# since AX = B, X = A inverse dot B\n",
    "X = np.linalg.inv(A).dot(B)\n",
    "X"
   ]
  },
  {
   "cell_type": "code",
   "execution_count": 23,
   "metadata": {},
   "outputs": [
    {
     "data": {
      "text/plain": [
       "array([[ 5.0729927 ],\n",
       "       [ 2.76642336],\n",
       "       [-1.79562044]])"
      ]
     },
     "execution_count": 23,
     "metadata": {},
     "output_type": "execute_result"
    }
   ],
   "source": [
    "# Example 3\n",
    "# 4x + 3y + 2z = 25\n",
    "# -2x + 2y + 3z = -10\n",
    "# 3x -5y + 2z = -4\n",
    "\n",
    "A = np.array([\n",
    "    [4, 3, 2],\n",
    "    [-2, 2, 3],\n",
    "    [3, -5, 3]\n",
    "])\n",
    "\n",
    "B = np.array([\n",
    "    [25],\n",
    "    [-10],\n",
    "    [-4]\n",
    "])\n",
    "\n",
    "X = np.linalg.inv(A).dot(B)\n",
    "#or\n",
    "np.linalg.solve(A, B)"
   ]
  },
  {
   "cell_type": "code",
   "execution_count": 24,
   "metadata": {},
   "outputs": [],
   "source": [
    "# real World example\n",
    "\"\"\"\n",
    "Suppose, a fruit-seller sold 20 mangoes and 10 oranges in one day for a total of $350. The next day he sold 17 mangoes and 22 oranges for $500. If the prices of the fruits remained unchanged on both the days, what was the price of one mango and one orange?\n",
    "\"\"\"\n",
    "\n",
    "# 20x + 10y = 350\n",
    "# 17x + 22y = 500\n",
    "\n",
    "A = np.array([[20, 10], [17, 22]])\n",
    "B = np.array([350, 500])\n",
    "X = np.linalg.solve(A,B)"
   ]
  },
  {
   "cell_type": "code",
   "execution_count": 25,
   "metadata": {},
   "outputs": [
    {
     "data": {
      "text/plain": [
       "array([  1.        ,   3.16227766,  10.        ,  31.6227766 ,\n",
       "       100.        ])"
      ]
     },
     "execution_count": 25,
     "metadata": {},
     "output_type": "execute_result"
    }
   ],
   "source": [
    "# creating arrays\n",
    "# np.array - creates an array for which elements are given by an array-like object\n",
    "#  nested python list, a tuple, an iterable sequence, or another ndarray instance\n",
    "\n",
    "# np.zeros(ones) - creates an array with specified dimensions and data type that is filled with zeros(ones)\n",
    "# np.diag - creates an array with specified values as diagonal and zeros elsewhere\n",
    "# np.arange - creates an array with evenly spaced values between the specified start, step and end\n",
    "# np.linspace - creates an array with evenly spaced values between start and end values using specified number or elements\n",
    "# np.logspace - creates an array with values that are logarithimically spaced between given start and end values\n",
    "# np,meshgrid - generates coordinate matrices and higher order-dimensional coordinate arrays from one dimensional coodinate vectors\n",
    "\n",
    "np.logspace(0, 2, 5) # 5 data points between 10^1 to 10^2\n"
   ]
  },
  {
   "cell_type": "code",
   "execution_count": 26,
   "metadata": {},
   "outputs": [],
   "source": [
    "# Meshgrid arrays\n",
    "x = np.array([-1, 0, 1])\n",
    "y = np.array([-2, 0, 2])\n",
    "X, Y = np.meshgrid(x, y)"
   ]
  },
  {
   "cell_type": "code",
   "execution_count": 27,
   "metadata": {},
   "outputs": [
    {
     "data": {
      "text/plain": [
       "array([[ 0,  1,  2,  3,  4,  5],\n",
       "       [10, 11, 12, 13, 14, 15],\n",
       "       [20, 21, 22, 23, 24, 25],\n",
       "       [30, 31, 32, 33, 34, 35],\n",
       "       [40, 41, 42, 43, 44, 45],\n",
       "       [50, 51, 52, 53, 54, 55]])"
      ]
     },
     "execution_count": 27,
     "metadata": {},
     "output_type": "execute_result"
    }
   ],
   "source": [
    "# Multi dimensional arrays\n",
    "f = lambda m, n: n + 10 * m\n",
    "A = np.fromfunction(f, (6,6), dtype=int)\n",
    "A"
   ]
  },
  {
   "cell_type": "code",
   "execution_count": 29,
   "metadata": {},
   "outputs": [],
   "source": [
    "# Solving linear systems\n",
    "# A linear system of equations s a collection of equations\n",
    "# way of solving.. \n",
    "# 1. Gaussian Elimination - perform Row operations to reduce the system to its acheleon form and then solve\n",
    " # examples of row operations\n",
    "#     Add  times row  to row .\n",
    "# Multiply row  by scalar .\n",
    "# Switch rows  and .\n",
    "\n",
    "A = np.array([[1,1,2],[-1,3,1],[0,5,2]])\n",
    "# Each of the elementary row operations is the result of matrix multiplication by an elementary matrix (on the left). To add  times row  to row  in a matrix , we multiply  by the matrix  where  is equal to the identity matrix except the  entry is . For example, if  is 3 by 3 and we want to add 3 times row 2 to row 0 (using 0 indexing) then\n",
    "E1 = np.array([[1, 0, 3], [0, 1, 0], [0, 0, 1]])"
   ]
  },
  {
   "cell_type": "code",
   "execution_count": 30,
   "metadata": {},
   "outputs": [
    {
     "data": {
      "text/plain": [
       "array([[ 1, 16,  8],\n",
       "       [-1,  3,  1],\n",
       "       [ 0,  5,  2]])"
      ]
     },
     "execution_count": 30,
     "metadata": {},
     "output_type": "execute_result"
    }
   ],
   "source": [
    "E1 @ A"
   ]
  },
  {
   "cell_type": "code",
   "execution_count": 32,
   "metadata": {},
   "outputs": [
    {
     "data": {
      "text/plain": [
       "array([[ 1,  1,  2],\n",
       "       [ 2, -6, -2],\n",
       "       [ 0,  5,  2]])"
      ]
     },
     "execution_count": 32,
     "metadata": {},
     "output_type": "execute_result"
    }
   ],
   "source": [
    "# To multiply  times row  in a matrix , we multiply  by the matrix  where  is equal to the identity matrix except the  entry is . For example, if  is 3 by 3 and we want to multiply row 1 by -2 then\n",
    "E2 = np.array([[1, 0, 0], [0, -2, 0], [0, 0, 1]])\n",
    "E2 @ A"
   ]
  },
  {
   "cell_type": "code",
   "execution_count": 33,
   "metadata": {},
   "outputs": [
    {
     "data": {
      "text/plain": [
       "array([[ 1,  1,  2],\n",
       "       [ 0,  5,  2],\n",
       "       [-1,  3,  1]])"
      ]
     },
     "execution_count": 33,
     "metadata": {},
     "output_type": "execute_result"
    }
   ],
   "source": [
    "# To multiply  times row  in a matrix , we multiply  by the matrix  where  is equal to the identity matrix except the  entry is . For example, if  is 3 by 3 and we want to multiply row 1 by -2 then\n",
    "E3 = np.array([[1,0,0],[0,0,1],[0,1,0]])\n",
    "E3 @ A"
   ]
  },
  {
   "cell_type": "code",
   "execution_count": 7,
   "metadata": {},
   "outputs": [],
   "source": [
    "# a function to add raws\n",
    "# takes parameters A, k, i, j nad returns an array resulting from \n",
    "# adding k times row j to row i\n",
    "\n",
    "def add_row(A, k, i, j):\n",
    "    \"\"\"Add k times row j to to row i in matrix A\"\"\"\n",
    "    n = A.shape[0]\n",
    "    E = np.eye(n)\n",
    "    if i == j:\n",
    "        E[i,i] = k + 1\n",
    "    else:\n",
    "        E[i, j] = k\n",
    "    return E @ A"
   ]
  },
  {
   "cell_type": "code",
   "execution_count": 8,
   "metadata": {},
   "outputs": [],
   "source": [
    "def scale_row(A, k, i):\n",
    "    \"\"\"Multiply row i by k in matrix A\"\"\"\n",
    "    n = A.shape[0]\n",
    "    E = np.eye(n)\n",
    "    E[i, i] = k\n",
    "    return E @ A"
   ]
  },
  {
   "cell_type": "code",
   "execution_count": 9,
   "metadata": {},
   "outputs": [],
   "source": [
    "def switch_rows(A, i, j):\n",
    "    n = A.shape[0]\n",
    "    E = np.eye(n)\n",
    "    E[i, i] = 0\n",
    "    E[j, j] = 0\n",
    "    E[i, j] = 1\n",
    "    E[j, i] = 1\n",
    "    \n",
    "    return E @ A"
   ]
  },
  {
   "cell_type": "code",
   "execution_count": 40,
   "metadata": {},
   "outputs": [
    {
     "data": {
      "text/plain": [
       "array([[ 5.,  4.,  2.,  1.,  0.,  0.],\n",
       "       [-1.,  2.,  1.,  0.,  1.,  0.],\n",
       "       [ 1.,  1.,  1.,  0.,  0.,  1.]])"
      ]
     },
     "execution_count": 40,
     "metadata": {},
     "output_type": "execute_result"
    }
   ],
   "source": [
    "# Lets apply our functions to the augmented matrix M I to find the inverse of matrix M\n",
    "M = np.array([[5,4,2], [-1,2,1], [1,1,1]])\n",
    "A = np.hstack([M, np.eye(3)])\n",
    "A"
   ]
  },
  {
   "cell_type": "code",
   "execution_count": 42,
   "metadata": {},
   "outputs": [
    {
     "data": {
      "text/plain": [
       "array([[ 1.,  1.,  1.,  0.,  0.,  1.],\n",
       "       [-1.,  2.,  1.,  0.,  1.,  0.],\n",
       "       [ 5.,  4.,  2.,  1.,  0.,  0.]])"
      ]
     },
     "execution_count": 42,
     "metadata": {},
     "output_type": "execute_result"
    }
   ],
   "source": [
    "A1 = switch_rows(A, 0, 2)\n",
    "A1"
   ]
  },
  {
   "cell_type": "code",
   "execution_count": 47,
   "metadata": {},
   "outputs": [
    {
     "data": {
      "text/plain": [
       "array([[1., 1., 1., 0., 0., 1.],\n",
       "       [0., 3., 2., 0., 1., 1.],\n",
       "       [5., 4., 2., 1., 0., 0.]])"
      ]
     },
     "execution_count": 47,
     "metadata": {},
     "output_type": "execute_result"
    }
   ],
   "source": [
    "A2 = add_row(A1, 1, 1, 0)\n",
    "A2"
   ]
  },
  {
   "cell_type": "code",
   "execution_count": 48,
   "metadata": {},
   "outputs": [
    {
     "data": {
      "text/plain": [
       "array([[ 1.,  1.,  1.,  0.,  0.,  1.],\n",
       "       [ 0.,  3.,  2.,  0.,  1.,  1.],\n",
       "       [ 0., -1., -3.,  1.,  0., -5.]])"
      ]
     },
     "execution_count": 48,
     "metadata": {},
     "output_type": "execute_result"
    }
   ],
   "source": [
    "A3 = add_row(A2, -5, 2, 0)\n",
    "A3"
   ]
  },
  {
   "cell_type": "code",
   "execution_count": 50,
   "metadata": {},
   "outputs": [
    {
     "data": {
      "text/plain": [
       "array([[ 1.,  1.,  1.,  0.,  0.,  1.],\n",
       "       [ 0., -1., -3.,  1.,  0., -5.],\n",
       "       [ 0.,  3.,  2.,  0.,  1.,  1.]])"
      ]
     },
     "execution_count": 50,
     "metadata": {},
     "output_type": "execute_result"
    }
   ],
   "source": [
    "A4 = switch_rows(A3, 1, 2)\n",
    "A4"
   ]
  },
  {
   "cell_type": "code",
   "execution_count": 53,
   "metadata": {},
   "outputs": [
    {
     "data": {
      "text/plain": [
       "array([[ 1.,  1.,  1.,  0.,  0.,  1.],\n",
       "       [ 0.,  1.,  3., -1.,  0.,  5.],\n",
       "       [ 0.,  3.,  2.,  0.,  1.,  1.]])"
      ]
     },
     "execution_count": 53,
     "metadata": {},
     "output_type": "execute_result"
    }
   ],
   "source": [
    "A5 = scale_row(A4, -1, 1)\n",
    "A5"
   ]
  },
  {
   "cell_type": "code",
   "execution_count": 54,
   "metadata": {},
   "outputs": [
    {
     "data": {
      "text/plain": [
       "array([[  1.,   1.,   1.,   0.,   0.,   1.],\n",
       "       [  0.,   1.,   3.,  -1.,   0.,   5.],\n",
       "       [  0.,   0.,  -7.,   3.,   1., -14.]])"
      ]
     },
     "execution_count": 54,
     "metadata": {},
     "output_type": "execute_result"
    }
   ],
   "source": [
    "A6 = add_row(A5, -3, 2, 1)\n",
    "A6"
   ]
  },
  {
   "cell_type": "code",
   "execution_count": 55,
   "metadata": {},
   "outputs": [
    {
     "data": {
      "text/plain": [
       "array([[ 1.        ,  1.        ,  1.        ,  0.        ,  0.        ,\n",
       "         1.        ],\n",
       "       [ 0.        ,  1.        ,  3.        , -1.        ,  0.        ,\n",
       "         5.        ],\n",
       "       [ 0.        ,  0.        ,  1.        , -0.42857143, -0.14285714,\n",
       "         2.        ]])"
      ]
     },
     "execution_count": 55,
     "metadata": {},
     "output_type": "execute_result"
    }
   ],
   "source": [
    "A7 = scale_row(A6, -1/7, 2)\n",
    "A7"
   ]
  },
  {
   "cell_type": "code",
   "execution_count": 57,
   "metadata": {},
   "outputs": [
    {
     "data": {
      "text/plain": [
       "array([[ 1.        ,  1.        ,  1.        ,  0.        ,  0.        ,\n",
       "         1.        ],\n",
       "       [ 0.        ,  1.        ,  0.        ,  0.28571429,  0.42857143,\n",
       "        -1.        ],\n",
       "       [ 0.        ,  0.        ,  1.        , -0.42857143, -0.14285714,\n",
       "         2.        ]])"
      ]
     },
     "execution_count": 57,
     "metadata": {},
     "output_type": "execute_result"
    }
   ],
   "source": [
    "A8 = add_row(A7, -3, 1, 2)\n",
    "A8"
   ]
  },
  {
   "cell_type": "code",
   "execution_count": 62,
   "metadata": {},
   "outputs": [
    {
     "data": {
      "text/plain": [
       "array([[ 1.        ,  1.        ,  0.        ,  0.42857143,  0.14285714,\n",
       "        -1.        ],\n",
       "       [ 0.        ,  1.        ,  0.        ,  0.28571429,  0.42857143,\n",
       "        -1.        ],\n",
       "       [ 0.        ,  0.        ,  1.        , -0.42857143, -0.14285714,\n",
       "         2.        ]])"
      ]
     },
     "execution_count": 62,
     "metadata": {},
     "output_type": "execute_result"
    }
   ],
   "source": [
    "A9 = add_row(A8, -1, 0, 2)\n",
    "A9"
   ]
  },
  {
   "cell_type": "code",
   "execution_count": 63,
   "metadata": {},
   "outputs": [
    {
     "data": {
      "text/plain": [
       "array([[ 1.        ,  0.        ,  0.        ,  0.14285714, -0.28571429,\n",
       "         0.        ],\n",
       "       [ 0.        ,  1.        ,  0.        ,  0.28571429,  0.42857143,\n",
       "        -1.        ],\n",
       "       [ 0.        ,  0.        ,  1.        , -0.42857143, -0.14285714,\n",
       "         2.        ]])"
      ]
     },
     "execution_count": 63,
     "metadata": {},
     "output_type": "execute_result"
    }
   ],
   "source": [
    "A10 = add_row(A9, -1, 0, 1)\n",
    "A10"
   ]
  },
  {
   "cell_type": "code",
   "execution_count": 64,
   "metadata": {},
   "outputs": [
    {
     "name": "stdout",
     "output_type": "stream",
     "text": [
      "[[ 0.14285714 -0.28571429  0.        ]\n",
      " [ 0.28571429  0.42857143 -1.        ]\n",
      " [-0.42857143 -0.14285714  2.        ]]\n"
     ]
    }
   ],
   "source": [
    "# verify\n",
    "Minv = A10[:,3:]\n",
    "print(Minv)"
   ]
  },
  {
   "cell_type": "code",
   "execution_count": 68,
   "metadata": {},
   "outputs": [
    {
     "name": "stdout",
     "output_type": "stream",
     "text": [
      "[[ 1.  0.  0.]\n",
      " [-0.  1. -0.]\n",
      " [ 0.  0.  1.]]\n"
     ]
    }
   ],
   "source": [
    "result = Minv @ M\n",
    "print(np.round(result, 15))"
   ]
  },
  {
   "cell_type": "code",
   "execution_count": 4,
   "metadata": {},
   "outputs": [
    {
     "name": "stdout",
     "output_type": "stream",
     "text": [
      "[[ 6 15  1]\n",
      " [ 8  7 12]\n",
      " [ 2  7  8]]\n"
     ]
    }
   ],
   "source": [
    "# Example 2\n",
    "A = np.array([[6, 15, 1], [8, 7, 12], [2, 7, 8]])\n",
    "print(A)"
   ]
  },
  {
   "cell_type": "code",
   "execution_count": 5,
   "metadata": {},
   "outputs": [
    {
     "name": "stdout",
     "output_type": "stream",
     "text": [
      "[[ 2]\n",
      " [14]\n",
      " [10]]\n"
     ]
    }
   ],
   "source": [
    "b = np.array([[2], [14], [10]])\n",
    "print(b)"
   ]
  },
  {
   "cell_type": "code",
   "execution_count": 6,
   "metadata": {},
   "outputs": [
    {
     "name": "stdout",
     "output_type": "stream",
     "text": [
      "[[ 6 15  1  2]\n",
      " [ 8  7 12 14]\n",
      " [ 2  7  8 10]]\n"
     ]
    }
   ],
   "source": [
    "# form an augmented matrix M\n",
    "M = np.hstack([A, b])\n",
    "print(M)"
   ]
  },
  {
   "cell_type": "code",
   "execution_count": 13,
   "metadata": {},
   "outputs": [
    {
     "data": {
      "text/plain": [
       "array([[ 1.        ,  2.5       ,  0.16666667,  0.33333333],\n",
       "       [ 8.        ,  7.        , 12.        , 14.        ],\n",
       "       [ 2.        ,  7.        ,  8.        , 10.        ]])"
      ]
     },
     "execution_count": 13,
     "metadata": {},
     "output_type": "execute_result"
    }
   ],
   "source": [
    "M1 = scale_row(M, 1/6, 0)\n",
    "print(M1)"
   ]
  },
  {
   "cell_type": "code",
   "execution_count": 14,
   "metadata": {},
   "outputs": [
    {
     "name": "stdout",
     "output_type": "stream",
     "text": [
      "[[  1.           2.5          0.16666667   0.33333333]\n",
      " [  0.         -13.          10.66666667  11.33333333]\n",
      " [  2.           7.           8.          10.        ]]\n"
     ]
    }
   ],
   "source": [
    "M2 = add_row(M1, -8, 1, 0)\n",
    "print(M2)"
   ]
  },
  {
   "cell_type": "code",
   "execution_count": 16,
   "metadata": {},
   "outputs": [
    {
     "name": "stdout",
     "output_type": "stream",
     "text": [
      "[[  1.           2.5          0.16666667   0.33333333]\n",
      " [  0.         -13.          10.66666667  11.33333333]\n",
      " [  0.           2.           7.66666667   9.33333333]]\n"
     ]
    }
   ],
   "source": [
    "M3 = add_row(M2, -2, 2, 0)\n",
    "print(M3)"
   ]
  },
  {
   "cell_type": "code",
   "execution_count": 17,
   "metadata": {},
   "outputs": [
    {
     "name": "stdout",
     "output_type": "stream",
     "text": [
      "[[ 1.          2.5         0.16666667  0.33333333]\n",
      " [ 0.          1.         -0.82051282 -0.87179487]\n",
      " [ 0.          2.          7.66666667  9.33333333]]\n"
     ]
    }
   ],
   "source": [
    "M4 = scale_row(M3, -1/13, 1)\n",
    "print(M4)"
   ]
  },
  {
   "cell_type": "code",
   "execution_count": 19,
   "metadata": {},
   "outputs": [
    {
     "name": "stdout",
     "output_type": "stream",
     "text": [
      "[[ 1.          2.5         0.16666667  0.33333333]\n",
      " [ 0.          1.         -0.82051282 -0.87179487]\n",
      " [ 0.          0.          9.30769231 11.07692308]]\n"
     ]
    }
   ],
   "source": [
    "M5 = add_row(M4, -2, 2, 1)\n",
    "print(M5)"
   ]
  },
  {
   "cell_type": "code",
   "execution_count": 20,
   "metadata": {},
   "outputs": [
    {
     "data": {
      "text/plain": [
       "array([[ 1.        ,  2.5       ,  0.16666667,  0.33333333],\n",
       "       [ 0.        ,  1.        , -0.82051282, -0.87179487],\n",
       "       [ 0.        ,  0.        ,  1.        ,  1.19008264]])"
      ]
     },
     "execution_count": 20,
     "metadata": {},
     "output_type": "execute_result"
    }
   ],
   "source": [
    "M6 = scale_row(M5, 1/M5[2,2], 2)\n",
    "M6"
   ]
  },
  {
   "cell_type": "code",
   "execution_count": 21,
   "metadata": {},
   "outputs": [
    {
     "data": {
      "text/plain": [
       "array([[1.        , 2.5       , 0.16666667, 0.33333333],\n",
       "       [0.        , 1.        , 0.        , 0.1046832 ],\n",
       "       [0.        , 0.        , 1.        , 1.19008264]])"
      ]
     },
     "execution_count": 21,
     "metadata": {},
     "output_type": "execute_result"
    }
   ],
   "source": [
    "M7 = add_row(M6, -M6[1,2], 1, 2)\n",
    "M7"
   ]
  },
  {
   "cell_type": "code",
   "execution_count": 26,
   "metadata": {},
   "outputs": [
    {
     "name": "stdout",
     "output_type": "stream",
     "text": [
      "[[1.         2.5        0.         0.13498623]\n",
      " [0.         1.         0.         0.1046832 ]\n",
      " [0.         0.         1.         1.19008264]]\n"
     ]
    }
   ],
   "source": [
    "M8 = add_row(M7, -M7[0, 2], 0, 2)\n",
    "print(M8)"
   ]
  },
  {
   "cell_type": "code",
   "execution_count": 27,
   "metadata": {},
   "outputs": [
    {
     "data": {
      "text/plain": [
       "array([[ 1.        ,  0.        ,  0.        , -0.12672176],\n",
       "       [ 0.        ,  1.        ,  0.        ,  0.1046832 ],\n",
       "       [ 0.        ,  0.        ,  1.        ,  1.19008264]])"
      ]
     },
     "execution_count": 27,
     "metadata": {},
     "output_type": "execute_result"
    }
   ],
   "source": [
    "M9 = add_row(M8, -M8[0, 1], 0, 1)\n",
    "M9"
   ]
  },
  {
   "cell_type": "code",
   "execution_count": 29,
   "metadata": {},
   "outputs": [
    {
     "name": "stdout",
     "output_type": "stream",
     "text": [
      "[[-0.12672176]\n",
      " [ 0.1046832 ]\n",
      " [ 1.19008264]]\n"
     ]
    }
   ],
   "source": [
    "# the solution of Ax = b is\n",
    "x = M9[:,3].reshape(3, 1)\n",
    "print(x)"
   ]
  },
  {
   "cell_type": "code",
   "execution_count": 32,
   "metadata": {},
   "outputs": [
    {
     "name": "stdout",
     "output_type": "stream",
     "text": [
      "[[-0.12672176]\n",
      " [ 0.1046832 ]\n",
      " [ 1.19008264]]\n"
     ]
    }
   ],
   "source": [
    "x = la.solve(A, b)\n",
    "print(x)"
   ]
  },
  {
   "cell_type": "code",
   "execution_count": null,
   "metadata": {},
   "outputs": [],
   "source": []
  }
 ],
 "metadata": {
  "kernelspec": {
   "display_name": "Python 3",
   "language": "python",
   "name": "python3"
  },
  "language_info": {
   "codemirror_mode": {
    "name": "ipython",
    "version": 3
   },
   "file_extension": ".py",
   "mimetype": "text/x-python",
   "name": "python",
   "nbconvert_exporter": "python",
   "pygments_lexer": "ipython3",
   "version": "3.7.5rc1"
  }
 },
 "nbformat": 4,
 "nbformat_minor": 2
}
