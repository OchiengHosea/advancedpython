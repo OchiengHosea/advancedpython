{
 "cells": [
  {
   "cell_type": "code",
   "execution_count": 1,
   "metadata": {},
   "outputs": [],
   "source": [
    "import pandas as pd\n",
    "import numpy as np\n",
    "import tensorflow as tf\n",
    "from sklearn import datasets, linear_model"
   ]
  },
  {
   "cell_type": "code",
   "execution_count": 17,
   "metadata": {},
   "outputs": [],
   "source": [
    "# Multiple regression\n",
    "def read_xom_oil_nasdaq_data():\n",
    "    def readFile(filename):\n",
    "        data = pd.read_csv(filename, sep=\",\", usecols=[0, 6], names=['Date', 'Price'], header=0)\n",
    "        # sort the data in acscending orderof date\n",
    "        data['Date'] = pd.to_datetime(data['Date'], format='%Y-%m-%d')\n",
    "        data = data.sort_values(['Date'], ascending=[True])\n",
    "        returns = data[[key for key in dict(data.dtypes) if dict(data.dtypes)[key] in ['float64', 'int64']]].pct_change()\n",
    "        return np.array(returns['Price'])[1:]\n",
    "    \n",
    "    nasdaqData = readFile('data/GSPC.csv')\n",
    "    oilData = readFile('data/USO.csv')\n",
    "    xomData = readFile('data/XOM.csv')\n",
    "    \n",
    "    return (nasdaqData, oilData, xomData)"
   ]
  },
  {
   "cell_type": "code",
   "execution_count": 18,
   "metadata": {},
   "outputs": [
    {
     "name": "stdout",
     "output_type": "stream",
     "text": [
      "[0.8472181  0.20595714]\n",
      "0.0026239238339583297\n"
     ]
    }
   ],
   "source": [
    "nasdaqData, oilData, xomData = read_xom_oil_nasdaq_data()\n",
    "# implementation with a baseline version\n",
    "combined = np.vstack((nasdaqData, oilData)).T\n",
    "xomNasdaqOilModel = linear_model.LinearRegression()\n",
    "xomNasdaqOilModel.fit(combined, xomData)\n",
    "xomNasdaqOilModel.score(combined, xomData)\n",
    "\n",
    "print(xomNasdaqOilModel.coef_)\n",
    "print(xomNasdaqOilModel.intercept_)"
   ]
  },
  {
   "cell_type": "code",
   "execution_count": 29,
   "metadata": {},
   "outputs": [
    {
     "name": "stdout",
     "output_type": "stream",
     "text": [
      "After 499 iteration:\n",
      "W1: 0.847218\n",
      "W2: 0.205957\n",
      "b: 0.002624\n",
      "cost: 0.030455\n",
      "After 999 iteration:\n",
      "W1: 0.847218\n",
      "W2: 0.205957\n",
      "b: 0.002624\n",
      "cost: 0.030455\n",
      "After 1499 iteration:\n",
      "W1: 0.847218\n",
      "W2: 0.205957\n",
      "b: 0.002624\n",
      "cost: 0.030455\n",
      "After 1999 iteration:\n",
      "W1: 0.847218\n",
      "W2: 0.205957\n",
      "b: 0.002624\n",
      "cost: 0.030455\n",
      "After 2499 iteration:\n",
      "W1: 0.847218\n",
      "W2: 0.205957\n",
      "b: 0.002624\n",
      "cost: 0.030455\n",
      "After 2999 iteration:\n",
      "W1: 0.847218\n",
      "W2: 0.205957\n",
      "b: 0.002624\n",
      "cost: 0.030455\n",
      "After 3499 iteration:\n",
      "W1: 0.847218\n",
      "W2: 0.205957\n",
      "b: 0.002624\n",
      "cost: 0.030455\n",
      "After 3999 iteration:\n",
      "W1: 0.847218\n",
      "W2: 0.205957\n",
      "b: 0.002624\n",
      "cost: 0.030455\n",
      "After 4499 iteration:\n",
      "W1: 0.847218\n",
      "W2: 0.205957\n",
      "b: 0.002624\n",
      "cost: 0.030455\n",
      "After 4999 iteration:\n",
      "W1: 0.847218\n",
      "W2: 0.205957\n",
      "b: 0.002624\n",
      "cost: 0.030455\n"
     ]
    }
   ],
   "source": [
    "# Implementation using tensorflow\n",
    "nasdaq_W = tf.Variable(tf.zeros([1,1]), name=\"nasdaq_W\")\n",
    "oil_W = tf.Variable(tf.zeros([1, 1]), name='oil_W')\n",
    "\n",
    "b = tf.Variable(tf.zeros([1]), name='b')\n",
    "\n",
    "nasdaq_x = tf.placeholder(tf.float32, [None, 1], name='nasdaq_x')\n",
    "oil_x = tf.placeholder(tf.float32, [None, 1], name='oil_x')\n",
    "\n",
    "nasdaq_Wx = tf.matmul(nasdaq_x, nasdaq_W)\n",
    "oil_Wx = tf.matmul(oil_x, oil_W)\n",
    "\n",
    "y = nasdaq_Wx + oil_Wx + b\n",
    "\n",
    "y_ = tf.placeholder(tf.float32, [None, 1])\n",
    "\n",
    "cost = tf.reduce_mean(tf.square(y_ - y))\n",
    "\n",
    "train_step_ftrl = tf.train.FtrlOptimizer(1).minimize(cost)\n",
    "\n",
    "all_x_nasdaq = nasdaqData.reshape(-1, 1)\n",
    "all_x_oil = oilData.reshape(-1, 1)\n",
    "all_ys = xomData.reshape(-1, 1)\n",
    "\n",
    "dataset_size = len(oilData)\n",
    "\n",
    "def trainWithMultiplepointsPerEpoch(steps, train_step, batch_size):\n",
    "    init = tf.global_variables_initializer()\n",
    "    \n",
    "    with tf.Session() as sess:\n",
    "        sess.run(init)\n",
    "        \n",
    "        for i in range(steps):\n",
    "            if dataset_size == batch_size:\n",
    "                batch_start_idx = 0\n",
    "            elif dataset_size < batch_size:\n",
    "                raise ValueError(\"Dataset Size: %d, must be greater than the batch size: %d\" % (dataset_size, batch_size))\n",
    "            else:\n",
    "                batch_start_idx = (i * batch_size) % dataset_size\n",
    "                \n",
    "            batch_end_idx = batch_start_idx + batch_size\n",
    "            \n",
    "            batch_x_nasdaq = all_x_nasdaq[batch_start_idx : batch_end_idx]\n",
    "            batch_x_oil = all_x_oil[batch_start_idx : batch_end_idx]\n",
    "            batch_ys = all_ys[batch_start_idx : batch_end_idx]\n",
    "            \n",
    "            feed = {nasdaq_x: batch_x_nasdaq, oil_x:batch_x_oil, y_: batch_ys}\n",
    "            \n",
    "            sess.run(train_step, feed_dict=feed)\n",
    "            \n",
    "            if (i + 1) % 500 == 0:\n",
    "                print(\"After %d iteration:\" % i)\n",
    "                print(\"W1: %f\" % sess.run(nasdaq_W))\n",
    "                print(\"W2: %f\" % sess.run(oil_W))\n",
    "                print(\"b: %f\" % sess.run(b))\n",
    "                \n",
    "                print(\"cost: %f\" % sess.run(cost, feed_dict=feed))\n",
    "                \n",
    "\n",
    "trainWithMultiplepointsPerEpoch(5000, train_step_ftrl, len(oilData))"
   ]
  },
  {
   "cell_type": "code",
   "execution_count": null,
   "metadata": {},
   "outputs": [],
   "source": []
  }
 ],
 "metadata": {
  "kernelspec": {
   "display_name": "Python 3",
   "language": "python",
   "name": "python3"
  },
  "language_info": {
   "codemirror_mode": {
    "name": "ipython",
    "version": 3
   },
   "file_extension": ".py",
   "mimetype": "text/x-python",
   "name": "python",
   "nbconvert_exporter": "python",
   "pygments_lexer": "ipython3",
   "version": "3.7.5rc1"
  }
 },
 "nbformat": 4,
 "nbformat_minor": 2
}
