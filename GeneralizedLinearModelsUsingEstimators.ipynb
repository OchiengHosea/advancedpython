{
 "cells": [
  {
   "cell_type": "code",
   "execution_count": 1,
   "metadata": {},
   "outputs": [],
   "source": [
    "import tensorflow as tf"
   ]
  },
  {
   "cell_type": "code",
   "execution_count": null,
   "metadata": {},
   "outputs": [],
   "source": [
    "features = [tf.contrib.layers.real_valued_colum('x', dimension=1)]\n",
    "estimator = tf.contrib.learn.LinearRegressor(feature_columns=features)\n",
    "input_fn = tf.contrib.learn.io.numpy_input_fn({\"x\": xData}, yData, batch_size=len(xData), num_epochs=100000)\n",
    "\n",
    "fit = estimator.fit(input_fn, steps=100000)\n",
    "\n",
    "for variable_name in fit.get_variable_names():\n",
    "    print(variable_name, \"----->\", fit.get_variable_value(variable_name))"
   ]
  },
  {
   "cell_type": "code",
   "execution_count": null,
   "metadata": {},
   "outputs": [],
   "source": [
    "# multiple linear regression with estimators\n",
    "features = [tf.contrib.layer.real_valued_column(\"nasdaq_x\", dimension=1),\n",
    "           tf.contrib.layer.real_valued_column(\"oil_x\", dimension=1)]\n",
    "\n",
    "estimator = tf.contrib.learn.LinearRegressor(feature_columns=features)\n",
    "input_fn = tf.contrib.learn.io.numpy_input_fn(x={nasdaq_x:nasdaqdata, \"oil_x\":oilData},\n",
    "                                             batch_size=len(nasdaqData),\n",
    "                                             num_epochs=10000)\n",
    "\n",
    "fit = estimator.fit(input_fn=input_fn, steps=100000)"
   ]
  },
  {
   "cell_type": "code",
   "execution_count": null,
   "metadata": {},
   "outputs": [],
   "source": [
    "# Logistic regression with estimators\n",
    "features = [tf.contrib.layer.real_valued_column(\"nasdaq_x\", dimension=1),\n",
    "           tf.contrib.layer.real_valued_column(\"oil_x\", dimension=1)]\n",
    "\n",
    "estimator = tf.contrib.learn.LinearClassifier(feature_columns=features)\n",
    "\n",
    "x = np.expand_dims(xData[:,0], axis=1)\n",
    "y = np.expand_dims(np.array(yData), axis=1)\n",
    "\n",
    "input_fn = tf.constrib.learn.io.numpy_input_fn({\"x\":x}, y, batch_size=100, num_epochs=1000)\n",
    "\n",
    "fit = estimator.fit(input_fn=input_fn, steps=100000)\n",
    "\n",
    "results = fit.evaluate(input_fn=input_fn, steps=100000)\n",
    "\n",
    "print(results)"
   ]
  },
  {
   "cell_type": "code",
   "execution_count": null,
   "metadata": {},
   "outputs": [],
   "source": [
    "# extending estimators with custom models\n",
    "def model(features, labels, mode):\n",
    "    W = tf.get_variable(\"W\", dtype=tf.float64)\n",
    "    b = tf.get_variable(\"b\", dtype=tf.float64)\n",
    "    \n",
    "    y = W * features['x'] + b\n",
    "    \n",
    "    loss = tf.reduce_sum(tf.square(y - labels))\n",
    "    \n",
    "    global_step = tf.train.get_global_step()\n",
    "    optimizer = tf.train.FtrlOptimizer(1)\n",
    "    \n",
    "    train = tf.group(optimizer.minimize(loss), tf.assign_add(global_step, 1))\n",
    "    \n",
    "    return tf.contrib.learn.ModelFnOps(node=node, predictions=y, loss=loss, train_op=train)\n",
    "\n",
    "estimator = tf.contrib.learn.Estimator(model_fn=model)\n",
    "input_fn = tf.constrib.learn.io.numpy_input_fn({\"x\":x}, y, batch_size=100, num_epochs=1000)\n",
    "fit = estimator.fit(input_fn=input_fn, steps=100000)"
   ]
  }
 ],
 "metadata": {
  "kernelspec": {
   "display_name": "Python 3",
   "language": "python",
   "name": "python3"
  },
  "language_info": {
   "codemirror_mode": {
    "name": "ipython",
    "version": 3
   },
   "file_extension": ".py",
   "mimetype": "text/x-python",
   "name": "python",
   "nbconvert_exporter": "python",
   "pygments_lexer": "ipython3",
   "version": "3.7.5rc1"
  }
 },
 "nbformat": 4,
 "nbformat_minor": 2
}
