{
 "cells": [
  {
   "cell_type": "code",
   "execution_count": 67,
   "metadata": {},
   "outputs": [],
   "source": [
    "import pandas as pd\n",
    "import numpy as np\n",
    "import tensorflow as tf\n",
    "from sklearn import datasets, linear_model"
   ]
  },
  {
   "cell_type": "code",
   "execution_count": 65,
   "metadata": {},
   "outputs": [],
   "source": [
    "def read_goog_sp500_data():\n",
    "    googFile = 'data/GOOG.csv'\n",
    "    spFile = 'data/GSPC.csv'\n",
    "    \n",
    "    goog = pd.read_csv(googFile, sep=\",\", usecols=[0,6], names=['Date', 'Goog'], header=0)\n",
    "    sp = pd.read_csv(spFile, sep=\",\", usecols=[0,6], names=['Date', 'SP500'], header=0)\n",
    "    goog['SP500'] = sp['SP500']\n",
    "    \n",
    "    # Format the date date object into a datetime\n",
    "    goog['Date'] = pd.to_datetime(goog['Date'], format='%Y/%m/%d')\n",
    "    \n",
    "    returns = goog[[key for key in dict(goog.dtypes) if dict(goog.dtypes)[key] in ['float64', 'int64']]].pct_change()\n",
    "    xData = np.array(returns['SP500'][1:])\n",
    "    yData = np.array(returns['Goog'][1:])\n",
    "    return xData, yData"
   ]
  },
  {
   "cell_type": "code",
   "execution_count": 66,
   "metadata": {
    "scrolled": true
   },
   "outputs": [
    {
     "name": "stdout",
     "output_type": "stream",
     "text": [
      "[[1.03551531]]\n",
      "[0.01556539]\n"
     ]
    }
   ],
   "source": [
    "xData, yData = read_goog_sp500_data()\n",
    "googModel = linear_model.LinearRegression()\n",
    "googModel.fit(xData.reshape(-1, 1), yData.reshape(-1, 1))\n",
    "print(googModel.coef_)\n",
    "print(googModel.intercept_)"
   ]
  },
  {
   "cell_type": "code",
   "execution_count": 83,
   "metadata": {},
   "outputs": [
    {
     "name": "stdout",
     "output_type": "stream",
     "text": [
      "After 999 iteration:\n",
      "W: 0.986041\n",
      "b: -0.034240\n",
      "cost: 0.000006\n"
     ]
    }
   ],
   "source": [
    "W = tf.Variable(tf.zeros([1,1]))\n",
    "b = tf.Variable(tf.zeros([1]))\n",
    "\n",
    "x = tf.placeholder(tf.float32, [None, 1])\n",
    "\n",
    "Wx = tf.matmul(x, W)\n",
    "\n",
    "y = Wx + b\n",
    "\n",
    "y_ = tf.placeholder(tf.float32, [None, 1])\n",
    "cost = tf.reduce_mean(tf.square(y_ -y))\n",
    "\n",
    "train_step_constant = tf.train.GradientDescentOptimizer(0.1).minimize(cost)\n",
    "\n",
    "def trainWithOnePointPerEpoch(steps, train_step):\n",
    "    init = tf.global_variables_initializer()\n",
    "    with tf.Session() as sess:\n",
    "        sess.run(init)\n",
    "        for i in range(steps):\n",
    "            xs = np.array([[xData[i % len(yData)]]])\n",
    "            ys = np.array([[yData[i % len(yData)]]])\n",
    "            \n",
    "            feed = {x: xs, y_: ys}\n",
    "            \n",
    "            sess.run(train_step, feed_dict=feed)\n",
    "            \n",
    "            if (i + 1) % 1000 == 0:\n",
    "                print(\"After %d iteration:\" % i)\n",
    "                print(\"W: %f\" % sess.run(W))\n",
    "                print(\"b: %f\" % sess.run(b))\n",
    "                \n",
    "                print(\"cost: %f\" % sess.run(cost, feed_dict=feed))\n",
    "                \n",
    "\n",
    "trainWithOnePointPerEpoch(1000, train_step_constant)"
   ]
  },
  {
   "cell_type": "code",
   "execution_count": null,
   "metadata": {},
   "outputs": [],
   "source": []
  }
 ],
 "metadata": {
  "kernelspec": {
   "display_name": "Python 3",
   "language": "python",
   "name": "python3"
  },
  "language_info": {
   "codemirror_mode": {
    "name": "ipython",
    "version": 3
   },
   "file_extension": ".py",
   "mimetype": "text/x-python",
   "name": "python",
   "nbconvert_exporter": "python",
   "pygments_lexer": "ipython3",
   "version": "3.7.5rc1"
  }
 },
 "nbformat": 4,
 "nbformat_minor": 2
}
