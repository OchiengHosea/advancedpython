{
 "cells": [
  {
   "cell_type": "code",
   "execution_count": 4,
   "metadata": {},
   "outputs": [
    {
     "data": {
      "text/plain": [
       "\"\\nOptimization is the process of finding and selecting the optimal element\\nfrom a set of feasible candidates\\nIn mathematical optimization, this problem is usually formulated as determining\\nthe extreme value of a function on a given domain\\n\\nOptimization is closely related to equation solving because \\nat an optimal value of a function, its derivative or gradient in the \\nmultivariate case is zero.\\n\\nThe converse however is not necessarillly tru, but a method to solve optimization\\nproblems is to solve for the zeros of the derivative or the gradient and test \\nthe resulting candidates for optimality.\\n\\ncvxopt lib provides solvers for linear and quadratic optimization problems\\n\\nClasssification of optimization problems\\nHere we restrict our math optimization to real-valued functions, with one or more dependant \\nvariables\\n\\nExample is minimization problem minx f(x) subject to set of m equality constraints g(x) = 0 and h(x) <= 0\\n\\nObjective function - f(x)\\nconstraints - h(x), g(x)\\n\\nThe problem is univariate or or one dimensional if x is a scalar, x E Rand multivariate if x is a vector, x E Rn\\nif the objective function and the constraints are all linear the problem is a \\nlinear optimization problem\\n\\nBy definittion, a function is convex on an interval [a, b] if the values of the function\\non this interval lie below the line through the endpoints (a, f(a), b,f(b))\\n\\nThis condition implies::\\nthe existance of unique minimum on the interval\\n\\nUnivariate Optimization\\n\\noptimization of a function that only depends on a single variable\\n-in addition to the techniques of finding the roots of the derivative of the function,\\nwe can employ techniques that are similar to the root finding for univariate funcions\\n namely bracketing methods and newton's method\\n\""
      ]
     },
     "execution_count": 4,
     "metadata": {},
     "output_type": "execute_result"
    }
   ],
   "source": [
    "\"\"\"\n",
    "Optimization is the process of finding and selecting the optimal element\n",
    "from a set of feasible candidates\n",
    "In mathematical optimization, this problem is usually formulated as determining\n",
    "the extreme value of a function on a given domain\n",
    "\n",
    "Optimization is closely related to equation solving because \n",
    "at an optimal value of a function, its derivative or gradient in the \n",
    "multivariate case is zero.\n",
    "\n",
    "The converse however is not necessarillly tru, but a method to solve optimization\n",
    "problems is to solve for the zeros of the derivative or the gradient and test \n",
    "the resulting candidates for optimality.\n",
    "\n",
    "cvxopt lib provides solvers for linear and quadratic optimization problems\n",
    "\n",
    "Classsification of optimization problems\n",
    "Here we restrict our math optimization to real-valued functions, with one or more dependant \n",
    "variables\n",
    "\n",
    "Example is minimization problem minx f(x) subject to set of m equality constraints g(x) = 0 and h(x) <= 0\n",
    "\n",
    "Objective function - f(x)\n",
    "constraints - h(x), g(x)\n",
    "\n",
    "The problem is univariate or or one dimensional if x is a scalar, x E Rand multivariate if x is a vector, x E Rn\n",
    "if the objective function and the constraints are all linear the problem is a \n",
    "linear optimization problem\n",
    "\n",
    "By definittion, a function is convex on an interval [a, b] if the values of the function\n",
    "on this interval lie below the line through the endpoints (a, f(a), b,f(b))\n",
    "\n",
    "This condition implies::\n",
    "the existance of unique minimum on the interval\n",
    "\n",
    "Univariate Optimization\n",
    "\n",
    "optimization of a function that only depends on a single variable\n",
    "-in addition to the techniques of finding the roots of the derivative of the function,\n",
    "we can employ techniques that are similar to the root finding for univariate funcions\n",
    " namely bracketing methods and newton's method\n",
    "\"\"\"\n"
   ]
  },
  {
   "cell_type": "code",
   "execution_count": 1,
   "metadata": {},
   "outputs": [],
   "source": [
    "from scipy import optimize\n",
    "import cvxopt\n",
    "import matplotlib.pyplot as plt\n",
    "import numpy as np\n",
    "import sympy\n",
    "sympy.init_printing()"
   ]
  },
  {
   "cell_type": "code",
   "execution_count": 3,
   "metadata": {},
   "outputs": [],
   "source": [
    "# for example, minimize the area of a cylinder with unit volume\n",
    "# variables - radius r, and height h, objective function f([r, h]) = 2pir**2 + 2pirh \n",
    "# equality constraints g([r, h]) = pir**2h -1 = 0\n",
    "# we we can algebraically solve the constraint function for one of the dependatnt variables \n",
    "# i.e h = 1/pir**2 and subtitute this into the objective function to obtain \n",
    "# an unconstrained one-dimensional optimization problem:\n",
    "# f(r) = 2pir**2 + 2/r"
   ]
  },
  {
   "cell_type": "code",
   "execution_count": 2,
   "metadata": {},
   "outputs": [
    {
     "data": {
      "image/png": "[encoded data removed]",
      "text/latex": [
       "$\\displaystyle \\frac{2^{\\frac{2}{3}}}{2 \\sqrt[3]{\\pi}}$"
      ],
      "text/plain": [
       "   2/3 \n",
       "  2    \n",
       "───────\n",
       "  3 ___\n",
       "2⋅╲╱ π "
      ]
     },
     "execution_count": 2,
     "metadata": {},
     "output_type": "execute_result"
    }
   ],
   "source": [
    "r, h = sympy.symbols(\"r, h\")\n",
    "Area = 2 * sympy.pi * r**2 + 2 * sympy.pi * r * h\n",
    "Volume = sympy.pi * r**2 * h\n",
    "h_r = sympy.solve(Volume -1)[0]\n",
    "Area_r = Area.subs(h_r)\n",
    "rsol = sympy.solve(Area_r.diff(r))[0]\n",
    "rsol\n"
   ]
  },
  {
   "cell_type": "code",
   "execution_count": 9,
   "metadata": {},
   "outputs": [
    {
     "data": {
      "image/png": "[encoded data removed]",
      "text/latex": [
       "$\\displaystyle 0.541926070139289$"
      ],
      "text/plain": [
       "0.541926070139289"
      ]
     },
     "execution_count": 9,
     "metadata": {},
     "output_type": "execute_result"
    }
   ],
   "source": [
    "_.evalf()"
   ]
  },
  {
   "cell_type": "code",
   "execution_count": 3,
   "metadata": {},
   "outputs": [
    {
     "data": {
      "image/png": "[encoded data removed]",
      "text/latex": [
       "$\\displaystyle 3 \\sqrt[3]{2} \\sqrt[3]{\\pi}$"
      ],
      "text/plain": [
       "  3 ___ 3 ___\n",
       "3⋅╲╱ 2 ⋅╲╱ π "
      ]
     },
     "execution_count": 3,
     "metadata": {},
     "output_type": "execute_result"
    }
   ],
   "source": [
    "# verify that the second derivative is positive and that rsol corresponds to a minimum\n",
    "Area_r.diff(r, 2).subs(r, rsol)\n",
    "Area_r.subs(r, rsol)"
   ]
  },
  {
   "cell_type": "code",
   "execution_count": 6,
   "metadata": {},
   "outputs": [
    {
     "data": {
      "image/png": "[encoded data removed]",
      "text/latex": [
       "$\\displaystyle 5.535810445932086$"
      ],
      "text/plain": [
       "5.535810445932086"
      ]
     },
     "execution_count": 6,
     "metadata": {},
     "output_type": "execute_result"
    }
   ],
   "source": [
    "# Using numerical techniques\n",
    "def f(r):\n",
    "    return 2 * np.pi * r**2 + 2/r\n",
    "\n",
    "r_min = optimize.brent(f, brack=(0.1, 4))\n",
    "r_min\n",
    "f(r_min)"
   ]
  },
  {
   "cell_type": "code",
   "execution_count": 7,
   "metadata": {},
   "outputs": [
    {
     "data": {
      "text/plain": [
       "     fun: 5.535810445932086\n",
       "    nfev: 19\n",
       "     nit: 15\n",
       " success: True\n",
       "       x: 0.5419260772557135"
      ]
     },
     "execution_count": 7,
     "metadata": {},
     "output_type": "execute_result"
    }
   ],
   "source": [
    "# to specify a starting interval in this case, we must use the bracket kwarg\n",
    "optimize.minimize_scalar(f, bracket=(0.1, 4))"
   ]
  },
  {
   "cell_type": "code",
   "execution_count": null,
   "metadata": {},
   "outputs": [],
   "source": []
  }
 ],
 "metadata": {
  "kernelspec": {
   "display_name": "Python 3",
   "language": "python",
   "name": "python3"
  },
  "language_info": {
   "codemirror_mode": {
    "name": "ipython",
    "version": 3
   },
   "file_extension": ".py",
   "mimetype": "text/x-python",
   "name": "python",
   "nbconvert_exporter": "python",
   "pygments_lexer": "ipython3",
   "version": "3.7.5rc1"
  }
 },
 "nbformat": 4,
 "nbformat_minor": 2
}
