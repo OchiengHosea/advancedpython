{
 "cells": [
  {
   "cell_type": "code",
   "execution_count": 2,
   "metadata": {},
   "outputs": [],
   "source": [
    "import tensorflow as tf"
   ]
  },
  {
   "cell_type": "code",
   "execution_count": 2,
   "metadata": {},
   "outputs": [],
   "source": [
    "a = tf.constant(6, name='constant_a')\n",
    "b = tf.constant(3, name='constant_b')\n",
    "c = tf.constant(10, name='constant_c')\n",
    "d = tf.constant(5, name='constant_d')"
   ]
  },
  {
   "cell_type": "code",
   "execution_count": 6,
   "metadata": {},
   "outputs": [
    {
     "name": "stdout",
     "output_type": "stream",
     "text": [
      "Tensor(\"addn:0\", shape=(), dtype=int32)\n"
     ]
    }
   ],
   "source": [
    "mul = tf.multiply(a, b, name='mul')\n",
    "div = tf.div(c, d, name='div')\n",
    "add_n = tf.add_n((mul, div), name='addn')\n",
    "\n",
    "print(add_n)"
   ]
  },
  {
   "cell_type": "code",
   "execution_count": 7,
   "metadata": {},
   "outputs": [
    {
     "data": {
      "text/plain": [
       "20"
      ]
     },
     "execution_count": 7,
     "metadata": {},
     "output_type": "execute_result"
    }
   ],
   "source": [
    "sess =tf.Session()\n",
    "sess.run(add_n)"
   ]
  },
  {
   "cell_type": "code",
   "execution_count": 9,
   "metadata": {},
   "outputs": [],
   "source": [
    "writer = tf.summary.FileWriter('./m2_example1', sess.graph)\n",
    "writer.close()\n",
    "sess.close()\n",
    "exit()"
   ]
  },
  {
   "cell_type": "code",
   "execution_count": 8,
   "metadata": {},
   "outputs": [
    {
     "name": "stdout",
     "output_type": "stream",
     "text": [
      "sum(x): 600\n",
      "prod(y): 6\n",
      "mean(sum(x) / prod(y)): 1\n"
     ]
    }
   ],
   "source": [
    "#  Placeholders\n",
    "# value is available only at runtime, it is also a constant\n",
    "x = tf.placeholder(tf.int32, shape=[3], name='x')\n",
    "y = tf.placeholder(tf.int32, shape=[3], name='y')\n",
    "sum_x = tf.reduce_sum(x, name='sum_x')\n",
    "prod_y = tf.reduce_prod(y, name='prod_y')\n",
    "\n",
    "final_div = tf.div(sum_x, prod_y, name='final_mean')\n",
    "final_mean = tf.reduce_mean([sum_x, prod_y], name='final_mean')\n",
    "sess = tf.Session()\n",
    "\n",
    "print(\"sum(x):\", sess.run(sum_x, feed_dict={x: [100, 200, 300]}))\n",
    "print(\"prod(y):\", sess.run(prod_y, feed_dict={y: [1,2,3]}))\n",
    "print(\"mean(sum(x) / prod(y)):\", sess.run(final_div, feed_dict={x: [1000, 2000, 3000], y:[10, 20, 30]}))"
   ]
  },
  {
   "cell_type": "code",
   "execution_count": 14,
   "metadata": {},
   "outputs": [
    {
     "name": "stdout",
     "output_type": "stream",
     "text": [
      "Intermediate results: Wx =  [  30 3300]\n",
      "Final results: Wx + b =  [  57 5009]\n",
      "Intermediate specified: Wx + b [ 107 1009]\n"
     ]
    }
   ],
   "source": [
    "# Fetches and feed_dict\n",
    "\n",
    "# Fetches - indicates what we want to compute\n",
    "w = tf.constant([10, 100], name='const_w')\n",
    "\n",
    "x = tf.placeholder(tf.int32, name='x')\n",
    "b = tf.placeholder(tf.int32, name='b')\n",
    "Wx = tf.multiply(w, x, name=\"Wx\")\n",
    "y = tf.add(Wx, b, name=\"y\")\n",
    "y_ = tf.subtract(x, b, name=\"y_\")\n",
    "\n",
    "with tf.Session() as sess:\n",
    "    print(\"Intermediate results: Wx = \", sess.run(Wx, feed_dict={x: [3, 33]}))\n",
    "    print(\"Final results: Wx + b = \", sess.run(y, feed_dict={x: [5, 50], b: [7, 9]}))\n",
    "    \n",
    "    print(\"Intermediate specified: Wx + b\", sess.run(fetches=y, feed_dict={Wx: [100, 1000], b:[7, 9]}))\n",
    "    \n",
    "    print(\"Two results\")\n",
    "    \n",
    "writter = tf.summary.FileWriter('./m3_example2', sess.graph)\n",
    "writter.close()\n"
   ]
  },
  {
   "cell_type": "code",
   "execution_count": null,
   "metadata": {},
   "outputs": [],
   "source": []
  }
 ],
 "metadata": {
  "kernelspec": {
   "display_name": "Python 3",
   "language": "python",
   "name": "python3"
  },
  "language_info": {
   "codemirror_mode": {
    "name": "ipython",
    "version": 3
   },
   "file_extension": ".py",
   "mimetype": "text/x-python",
   "name": "python",
   "nbconvert_exporter": "python",
   "pygments_lexer": "ipython3",
   "version": "3.7.5rc1"
  }
 },
 "nbformat": 4,
 "nbformat_minor": 2
}
