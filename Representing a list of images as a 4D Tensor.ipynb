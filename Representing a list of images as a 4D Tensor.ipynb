{
 "cells": [
  {
   "cell_type": "code",
   "execution_count": 2,
   "metadata": {},
   "outputs": [],
   "source": [
    "import tensorflow as tf\n",
    "import matplotlib.pyplot as plt\n",
    "import matplotlib.image as mp_img\n",
    "import os\n",
    "from PIL import Image"
   ]
  },
  {
   "cell_type": "code",
   "execution_count": 8,
   "metadata": {},
   "outputs": [
    {
     "name": "stdout",
     "output_type": "stream",
     "text": [
      "(112, 112, 3)\n",
      "(112, 112, 3)\n",
      "(112, 112, 3)\n",
      "(112, 112, 3)\n",
      "(112, 112, 3)\n",
      "Tensor(\"stack_34:0\", shape=(5, 112, 112, 3), dtype=float32)\n"
     ]
    }
   ],
   "source": [
    "original_image_list = ['./shoes/lophas2.jpeg', './shoes/lophas4.jpeg',\n",
    "                       './shoes/lophas5.jpg', './shoes/rabbers2.jpg', './shoes/rabbers3.jpg']\n",
    "filename_queue = tf.train.string_input_producer(original_image_list)\n",
    "image_reader = tf.WholeFileReader()\n",
    "with tf.Session() as sess:\n",
    "    coord = tf.train.Coordinator()\n",
    "    threads = tf.train.start_queue_runners(sess=sess, coord=coord)\n",
    "    \n",
    "    image_list = []\n",
    "    for i in range(len(original_image_list)):\n",
    "        _, image_file = image_reader.read(filename_queue)\n",
    "        \n",
    "        image = tf.image.decode_jpeg(image_file)\n",
    "        \n",
    "        image = tf.image.resize_images(image, [224, 224])\n",
    "        image.set_shape([224, 224, 3])\n",
    "        image = tf.image.flip_up_down(image)\n",
    "        \n",
    "        image = tf.image.central_crop(image, central_fraction=0.5)\n",
    "        \n",
    "        image_array = sess.run(image)\n",
    "        print(image_array.shape)\n",
    "        \n",
    "        image_tensor = tf.stack(image_array)\n",
    "#         print(image_tensor)\n",
    "        image_list.append(image_tensor)\n",
    "        \n",
    "    coord.request_stop()\n",
    "    coord.join(threads)\n",
    "    \n",
    "    images_tensor = tf.stack(image_list)\n",
    "    print(images_tensor)\n",
    "    \n",
    "    summary_writer = tf.summary.FileWriter('./m4_example3', graph=sess.graph)\n",
    "    summary_str = sess.run(tf.summary.image('images', images_tensor))\n",
    "    summary_writer.add_summary(summary_str)\n",
    "    summary_writer.close()"
   ]
  },
  {
   "cell_type": "code",
   "execution_count": null,
   "metadata": {},
   "outputs": [],
   "source": []
  }
 ],
 "metadata": {
  "kernelspec": {
   "display_name": "Python 3",
   "language": "python",
   "name": "python3"
  },
  "language_info": {
   "codemirror_mode": {
    "name": "ipython",
    "version": 3
   },
   "file_extension": ".py",
   "mimetype": "text/x-python",
   "name": "python",
   "nbconvert_exporter": "python",
   "pygments_lexer": "ipython3",
   "version": "3.7.5rc1"
  }
 },
 "nbformat": 4,
 "nbformat_minor": 2
}
