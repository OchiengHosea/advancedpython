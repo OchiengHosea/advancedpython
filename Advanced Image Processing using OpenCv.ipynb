{
 "cells": [
  {
   "cell_type": "code",
   "execution_count": 3,
   "metadata": {},
   "outputs": [],
   "source": [
    "import cv2\n",
    "from skimage import io"
   ]
  },
  {
   "cell_type": "code",
   "execution_count": 7,
   "metadata": {},
   "outputs": [
    {
     "data": {
      "text/plain": [
       "(268, 575, 3)"
      ]
     },
     "execution_count": 7,
     "metadata": {},
     "output_type": "execute_result"
    }
   ],
   "source": [
    "# blend 2 photographs, so that features of both photographs are visible\n",
    "img1 = cv2.imread('boot.jpg')\n",
    "img2 = cv2.imread('boot_up.jpg')\n",
    "\n",
    "# define alpha and beta\n",
    "alpha, beta = 0.3, 0.7\n",
    "\n",
    "# blend images\n",
    "# final_image = cv2.addWeighted(img1, alpha, img2, beta, 0.0)\n",
    "# io.imshow(final_image)\n",
    "img2.shape\n",
    "# img1.shape"
   ]
  },
  {
   "cell_type": "code",
   "execution_count": null,
   "metadata": {},
   "outputs": [],
   "source": []
  }
 ],
 "metadata": {
  "kernelspec": {
   "display_name": "Python 3.7.5 64-bit ('advpy': venv)",
   "language": "python",
   "name": "python37564bitadvpyvenv83b77949b7974c7ca5ec25238bcb6090"
  },
  "language_info": {
   "codemirror_mode": {
    "name": "ipython",
    "version": 3
   },
   "file_extension": ".py",
   "mimetype": "text/x-python",
   "name": "python",
   "nbconvert_exporter": "python",
   "pygments_lexer": "ipython3",
   "version": "3.7.5rc1"
  }
 },
 "nbformat": 4,
 "nbformat_minor": 2
}
